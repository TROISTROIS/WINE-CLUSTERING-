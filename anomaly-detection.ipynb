{
 "cells": [
  {
   "cell_type": "code",
   "execution_count": 1,
   "id": "ec534196",
   "metadata": {
    "_cell_guid": "b1076dfc-b9ad-4769-8c92-a6c4dae69d19",
    "_uuid": "8f2839f25d086af736a60e9eeb907d3b93b6e0e5",
    "execution": {
     "iopub.execute_input": "2022-12-13T06:24:07.041194Z",
     "iopub.status.busy": "2022-12-13T06:24:07.040655Z",
     "iopub.status.idle": "2022-12-13T06:24:08.238153Z",
     "shell.execute_reply": "2022-12-13T06:24:08.236579Z"
    },
    "papermill": {
     "duration": 1.20559,
     "end_time": "2022-12-13T06:24:08.241369",
     "exception": false,
     "start_time": "2022-12-13T06:24:07.035779",
     "status": "completed"
    },
    "tags": []
   },
   "outputs": [
    {
     "name": "stdout",
     "output_type": "stream",
     "text": [
      "/kaggle/input/anomaly-detection-algorithm/ex8data1.mat\n"
     ]
    }
   ],
   "source": [
    "# This Python 3 environment comes with many helpful analytics libraries installed\n",
    "# It is defined by the kaggle/python Docker image: https://github.com/kaggle/docker-python\n",
    "# For example, here's several helpful packages to load\n",
    "\n",
    "import numpy as np # linear algebra\n",
    "import pandas as pd # data processing, CSV file I/O (e.g. pd.read_csv)\n",
    "import matplotlib.pyplot as plt\n",
    "import seaborn as sns\n",
    "from scipy.io import loadmat\n",
    "# Input data files are available in the read-only \"../input/\" directory\n",
    "# For example, running this (by clicking run or pressing Shift+Enter) will list all files under the input directory\n",
    "\n",
    "import os\n",
    "for dirname, _, filenames in os.walk('/kaggle/input'):\n",
    "    for filename in filenames:\n",
    "        print(os.path.join(dirname, filename))\n",
    "\n",
    "# You can write up to 20GB to the current directory (/kaggle/working/) that gets preserved as output when you create a version using \"Save & Run All\" \n",
    "# You can also write temporary files to /kaggle/temp/, but they won't be saved outside of the current session"
   ]
  },
  {
   "cell_type": "code",
   "execution_count": 2,
   "id": "db88bb10",
   "metadata": {
    "execution": {
     "iopub.execute_input": "2022-12-13T06:24:08.246688Z",
     "iopub.status.busy": "2022-12-13T06:24:08.246296Z",
     "iopub.status.idle": "2022-12-13T06:24:08.257543Z",
     "shell.execute_reply": "2022-12-13T06:24:08.256577Z"
    },
    "papermill": {
     "duration": 0.016698,
     "end_time": "2022-12-13T06:24:08.260161",
     "exception": false,
     "start_time": "2022-12-13T06:24:08.243463",
     "status": "completed"
    },
    "tags": []
   },
   "outputs": [],
   "source": [
    "df = loadmat(\"/kaggle/input/anomaly-detection-algorithm/ex8data1.mat\")"
   ]
  }
 ],
 "metadata": {
  "kernelspec": {
   "display_name": "Python 3",
   "language": "python",
   "name": "python3"
  },
  "language_info": {
   "codemirror_mode": {
    "name": "ipython",
    "version": 3
   },
   "file_extension": ".py",
   "mimetype": "text/x-python",
   "name": "python",
   "nbconvert_exporter": "python",
   "pygments_lexer": "ipython3",
   "version": "3.7.12"
  },
  "papermill": {
   "default_parameters": {},
   "duration": 10.750158,
   "end_time": "2022-12-13T06:24:08.983525",
   "environment_variables": {},
   "exception": null,
   "input_path": "__notebook__.ipynb",
   "output_path": "__notebook__.ipynb",
   "parameters": {},
   "start_time": "2022-12-13T06:23:58.233367",
   "version": "2.3.4"
  }
 },
 "nbformat": 4,
 "nbformat_minor": 5
}
